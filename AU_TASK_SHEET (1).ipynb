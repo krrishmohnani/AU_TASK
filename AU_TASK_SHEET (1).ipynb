{
 "cells": [
  {
   "cell_type": "code",
   "execution_count": null,
   "id": "79f6dbcf-4142-4c6e-b112-1042226dd25d",
   "metadata": {},
   "outputs": [],
   "source": [
    "#IN THIS SHEET THERE ARE ALL THE TASK UPLOADED\n"
   ]
  },
  {
   "cell_type": "markdown",
   "id": "8a84612a-03cb-47d1-a171-c35631e993da",
   "metadata": {},
   "source": [
    "#TASK1"
   ]
  },
  {
   "cell_type": "code",
   "execution_count": 1,
   "id": "c3d26b5f-b699-40ae-9d03-a870a8551829",
   "metadata": {},
   "outputs": [
    {
     "name": "stdin",
     "output_type": "stream",
     "text": [
      "enter the celcius 85\n"
     ]
    },
    {
     "data": {
      "text/plain": [
       "185.0"
      ]
     },
     "execution_count": 1,
     "metadata": {},
     "output_type": "execute_result"
    }
   ],
   "source": [
    "#### Q1:- Write a program that will convert celsius value to fahrenheit.\"\"\"\n",
    "cel=int(input(\"enter the celcius\"))\n",
    "F = (cel * 9/5) + 32\n",
    "F"
   ]
  },
  {
   "cell_type": "code",
   "execution_count": 3,
   "id": "3cb704e3-b4ec-43fb-89a2-60bd5b2cc8a6",
   "metadata": {},
   "outputs": [
    {
     "name": "stdout",
     "output_type": "stream",
     "text": [
      "the value of a is: 20\n",
      "the value of b is: 10\n"
     ]
    }
   ],
   "source": [
    "#Q2:- Take 2 numbers as input from the user.\n",
    "#Write a program to swap the numbers without using any special python syntax.\"\"\"\n",
    "a=10\n",
    "b=20\n",
    "a=a+b\n",
    "b=a-b\n",
    "a=a-b\n",
    "print(\"the value of a is:\",a)\n",
    "print(\"the value of b is:\",b)"
   ]
  },
  {
   "cell_type": "code",
   "execution_count": 5,
   "id": "75b5a769-7eb5-480c-b3a6-06340fe242f6",
   "metadata": {},
   "outputs": [],
   "source": [
    "#Q3:Write a program to find the euclidean distance between two coordinates.\n",
    "#Take both the coordinates from the user as input.\"\"\"\n",
    "#2 cordinates li thi but eucliden smj ni payaa \n",
    "#formula i m getting is difffrent and i m unable to implement it in this "
   ]
  },
  {
   "cell_type": "code",
   "execution_count": null,
   "id": "4b765321-73aa-4583-aa69-5bca4505e2f3",
   "metadata": {},
   "outputs": [],
   "source": [
    "## Q4:- Write a program to find the simple interest when the value of principle,rate of interest and time period is provided by the user.\n",
    "value=int(input(\"enter the Value Of Principal\"))\n",
    "interest=int(input(\"enter the Rate Of Interest\"))\n",
    "time=int(input(\"Enter the Time \"))\n",
    "Simple_interest=(value *interest  * time)/100\n",
    "print(\"Interest amount is :\",Simple_interest)\n",
    "print(\"Net Payable\",value+Simple_interest)"
   ]
  },
  {
   "cell_type": "code",
   "execution_count": null,
   "id": "824c4e08-bf72-41ad-a44d-0c911a7d0dc5",
   "metadata": {},
   "outputs": [],
   "source": [
    "# Q5:- Write a program that will tell the number of dogs and chicken are there when the user will provide the value of total heads and legs.\n",
    "#maths eq hogi pr pythoon m implimwnt smj ni a rha \n",
    "#maths m a rh h \n",
    "#sir n explain kiya but implement krn ni aya ki kaise implement kre isko pyhon m maths m ho jayeg \n",
    "#but python m ni hoga n mane soccha ki kaise kre kyuki sir karawayege"
   ]
  },
  {
   "cell_type": "code",
   "execution_count": null,
   "id": "f3de8d8d-fc79-49dc-bdb0-1255b63c4deb",
   "metadata": {},
   "outputs": [],
   "source": [
    "#Q6:- Write a program to find the sum of squares of first n natural numbers where n will be provided by the user\"\n",
    "n=int(input(\"enter the number :\"))\n",
    "sum1=0\n",
    "for i in range(1,n+1):\n",
    "    sum1+=i**2\n",
    "sum1\n",
    "    "
   ]
  },
  {
   "cell_type": "code",
   "execution_count": null,
   "id": "429e7518-e741-4ee6-8c64-631d2d679fde",
   "metadata": {},
   "outputs": [],
   "source": [
    "#Q7=Given the first 2 terms of an Arithmetic Series.Find the Nth term of the series. Assume all inputs are provided by the user.\"\"\""
   ]
  },
  {
   "cell_type": "code",
   "execution_count": null,
   "id": "5e569e6f-225f-48d2-88ff-4dfdb258a16e",
   "metadata": {},
   "outputs": [],
   "source": [
    "#Given 2 fractions, find the sum of those 2 fractions.\n",
    "#Take the numerator and denominator values of the fractions from the user.\"\"\"\n",
    "a_numerator=int(input(\"enter the numerator\"))\n",
    "a_denominator=int(input(\"enter the denominator\"))\n",
    "b_numerator=int(input(\"enter the numerator\"))\n",
    "b_denominator=int(input(\"enter the denominator\"))\n",
    "if a_denominator==b_denominator:\n",
    "    c=a_numerator + b_numerator\n",
    "    d=a_denominator +b_denominator\n",
    "import numpy as np\n",
    "a=1\n",
    "a_den=2\n",
    "b=1\n",
    "b_den=3\n",
    "lcm = np.lcm(a_den, b_den)\n",
    "new_a_n=(lcm//a_den*a)\n",
    "new_b_n=(lcm//b_den*b)\n",
    "print(new_a_n+new_b_n,lcm)"
   ]
  },
  {
   "cell_type": "code",
   "execution_count": null,
   "id": "a8f7d236-8b32-4afb-baf1-9bdd6a9fb1c6",
   "metadata": {},
   "outputs": [],
   "source": [
    "#Q10:- Given the height, width and breadth of a milk tank, you have to find out how many glasses of milk can be obtained? Assume all the inputs are provided by the user.\n",
    "height=int(input(\"enter the height:\"))\n",
    "width=int(input(\"enter the width:\"))\n",
    "breadth=int(input(\"enter the breath :\"))\n",
    "#dimention of milk tank is \n",
    "h=3\n",
    "r=1\n",
    "volume_tank=height*width*breadth\n",
    "volume_glass=3.14*(r**2)+h\n",
    "print(volume_tank/volume_glass)\n"
   ]
  },
  {
   "cell_type": "markdown",
   "id": "1494f1a2-b7c4-4fde-a2d5-0b4dc847b6d6",
   "metadata": {},
   "source": [
    "#SHEET1 OVER\n"
   ]
  },
  {
   "cell_type": "code",
   "execution_count": null,
   "id": "5c3662a0-18a0-4e60-896a-3e13f84b81fe",
   "metadata": {},
   "outputs": [],
   "source": []
  },
  {
   "cell_type": "code",
   "execution_count": null,
   "id": "739c1c6b-bfdc-4991-8fea-cc218add8b40",
   "metadata": {},
   "outputs": [],
   "source": []
  },
  {
   "cell_type": "markdown",
   "id": "f0f23c54-47c2-434c-9de2-582a411e34d7",
   "metadata": {},
   "source": [
    "SHEET 2 (TASK 2)"
   ]
  },
  {
   "cell_type": "code",
   "execution_count": 7,
   "id": "88259a9f-367d-43ef-9b85-902511a61aa0",
   "metadata": {},
   "outputs": [
    {
     "name": "stdin",
     "output_type": "stream",
     "text": [
      "enter the salary : 50000\n"
     ]
    },
    {
     "name": "stdout",
     "output_type": "stream",
     "text": [
      "41000.0\n"
     ]
    }
   ],
   "source": [
    "#`Problem1: Write a program that will give you in hand monthly salary after deduction on CTC - HRA(10%), DA(5%), PF(3%) and taxes deduction as below:\n",
    "salary=int(input(\"enter the salary :\"))\n",
    "hra=10/100*salary\n",
    "da=5/100*salary\n",
    "pf=3/100*salary\n",
    "\n",
    "if salary<=500000:\n",
    "    tax=0\n",
    "elif salary>500000 and salary<=1000000:\n",
    "    tax=10/100*salary\n",
    "elif salary>1000000 and salary<=2000000:\n",
    "    tax=20/100*salary\n",
    "else:\n",
    "    tax=30/100*salary\n",
    "in_hand=(salary-hra-da-pf-tax)\n",
    "print(in_hand)\n"
   ]
  },
  {
   "cell_type": "code",
   "execution_count": 9,
   "id": "5895f9bb-b188-42be-9391-de6a8a2dfbef",
   "metadata": {},
   "outputs": [
    {
     "name": "stdin",
     "output_type": "stream",
     "text": [
      "enter the number: 85\n",
      "enter the number: 45\n",
      "enter the number: 52\n"
     ]
    },
    {
     "name": "stdout",
     "output_type": "stream",
     "text": [
      "It can not form triiangle \n"
     ]
    }
   ],
   "source": [
    "#Problem2:Write a program that take a user input of three angles and will find out whether it can form a triangle or not.\n",
    "angle1=int(input(\"enter the number:\"))\n",
    "angle2=int(input(\"enter the number:\"))\n",
    "angle3=int(input(\"enter the number:\"))\n",
    "triangle=(angle1+angle2+angle3)\n",
    "if triangle==180:\n",
    "    print(\"It can form Triangle \")\n",
    "else:\n",
    "    print(\"It can not form triiangle \")\n"
   ]
  },
  {
   "cell_type": "code",
   "execution_count": 15,
   "id": "59c93371-186e-4d3a-acea-00fb7b990626",
   "metadata": {},
   "outputs": [
    {
     "name": "stdin",
     "output_type": "stream",
     "text": [
      "enter the cost  price 8000\n",
      "enter the selling price 5000\n"
     ]
    },
    {
     "name": "stdout",
     "output_type": "stream",
     "text": [
      "It's Loss\n"
     ]
    }
   ],
   "source": [
    "#Problem3`Write a program that will take user input of cost price and selling price and determines whether its a loss or a profit.\n",
    "cost_price=int(input(\"enter the cost  price\"))\n",
    "selling_price=int(input(\"enter the selling price\"))\n",
    "if cost_price<selling_price:\n",
    "    print(\"It's Profit \", selling_price-cost_price)\n",
    "else:\n",
    "    print(\"It's Loss\")"
   ]
  },
  {
   "cell_type": "code",
   "execution_count": 17,
   "id": "a8122975-5ba1-423b-817b-5a1e65e652ad",
   "metadata": {},
   "outputs": [
    {
     "name": "stdin",
     "output_type": "stream",
     "text": [
      "enter the cm value: 85\n"
     ]
    },
    {
     "name": "stdout",
     "output_type": "stream",
     "text": [
      "ft 2.788713910761155\n"
     ]
    },
    {
     "name": "stdin",
     "output_type": "stream",
     "text": [
      "enter the km 52\n"
     ]
    },
    {
     "name": "stdout",
     "output_type": "stream",
     "text": [
      "32.311292\n"
     ]
    },
    {
     "name": "stdin",
     "output_type": "stream",
     "text": [
      "enter the dollar 45\n"
     ]
    },
    {
     "name": "stdout",
     "output_type": "stream",
     "text": [
      "inr of dollar is : 3780\n"
     ]
    }
   ],
   "source": [
    "# `Problem 4`: Write a menu-driven program -\n",
    "'''1. cm to ft\n",
    "2. km to miles\n",
    "3. USD to INR\n",
    "4. exit'''\n",
    "cm=int(input(\"enter the cm value:\"))\n",
    "ft= cm / 30.48\n",
    "print(\"ft\",ft)\n",
    "#KM TO MILES:\n",
    "km=int(input(\"enter the km\"))\n",
    "miles=km*0.621371\n",
    "print(miles)\n",
    "#USD TO INR\n",
    "usd=int(input(\"enter the dollar\"))\n",
    "inr=usd*84\n",
    "print(\"inr of dollar is :\",inr)"
   ]
  },
  {
   "cell_type": "code",
   "execution_count": 21,
   "id": "c738dc56-eb1c-40aa-89cf-d009785962b1",
   "metadata": {},
   "outputs": [
    {
     "name": "stdin",
     "output_type": "stream",
     "text": [
      "enter the number: 10\n"
     ]
    },
    {
     "name": "stdout",
     "output_type": "stream",
     "text": [
      "0\n",
      "1\n",
      "1\n",
      "2\n",
      "3\n",
      "5\n",
      "8\n"
     ]
    }
   ],
   "source": [
    "### `Problem 5` - Exercise 12: Display Fibonacci series up to 10 terms.\n",
    "n=int(input(\"enter the number:\"))\n",
    "x=0\n",
    "y=1\n",
    "z=0\n",
    "while (z<=n):\n",
    "    print(z)\n",
    "    x=y\n",
    "    y=z\n",
    "    z=x+y\n"
   ]
  },
  {
   "cell_type": "code",
   "execution_count": 23,
   "id": "669d8368-b5e9-4325-95f7-2fc200b0ff82",
   "metadata": {},
   "outputs": [
    {
     "name": "stdin",
     "output_type": "stream",
     "text": [
      "enter the number: 500\n"
     ]
    },
    {
     "data": {
      "text/plain": [
       "1220136825991110068701238785423046926253574342803192842192413588385845373153881997605496447502203281863013616477148203584163378722078177200480785205159329285477907571939330603772960859086270429174547882424912726344305670173270769461062802310452644218878789465754777149863494367781037644274033827365397471386477878495438489595537537990423241061271326984327745715546309977202781014561081188373709531016356324432987029563896628911658974769572087926928871281780070265174507768410719624390394322536422605234945850129918571501248706961568141625359056693423813008856249246891564126775654481886506593847951775360894005745238940335798476363944905313062323749066445048824665075946735862074637925184200459369692981022263971952597190945217823331756934581508552332820762820023402626907898342451712006207714640979456116127629145951237229913340169552363850942885592018727433795173014586357570828355780158735432768888680120399882384702151467605445407663535984174430480128938313896881639487469658817504506926365338175055478128640000000000000000000000000000000000000000000000000000000000000000000000000000000000000000000000000000000000000000000000000000"
      ]
     },
     "execution_count": 23,
     "metadata": {},
     "output_type": "execute_result"
    }
   ],
   "source": [
    "# `Problem 6` - Find the factorial of a given number.\n",
    "n=int(input(\"enter the number:\"))\n",
    "fact1=1\n",
    "for i in range(1,n+1):\n",
    "    fact1*=i\n",
    "fact1"
   ]
  },
  {
   "cell_type": "code",
   "execution_count": 25,
   "id": "ff02da17-69ae-44c6-815f-908ec25d4416",
   "metadata": {},
   "outputs": [
    {
     "name": "stdin",
     "output_type": "stream",
     "text": [
      "enter the number: 50\n"
     ]
    },
    {
     "name": "stdout",
     "output_type": "stream",
     "text": [
      "0\n",
      "5\n"
     ]
    }
   ],
   "source": [
    "## `Problem 7` - Reverse a given integer number.\n",
    "n=int(input(\"enter the number:\"))\n",
    "m=str(n)\n",
    "for i in range(len(m)-1,-1,-1):\n",
    "    print(m[i])"
   ]
  },
  {
   "cell_type": "code",
   "execution_count": 27,
   "id": "84fcab16-744f-4747-a0ff-27a977a50b61",
   "metadata": {},
   "outputs": [
    {
     "name": "stdout",
     "output_type": "stream",
     "text": [
      "276\n"
     ]
    }
   ],
   "source": [
    "'''Problem8:Take a user input as integer N. Find out the sum from 1 to N. \n",
    "If any number if divisible by 5, then skip that number. \n",
    "And if the sum is greater than 300, don't need to calculate the sum further more. Print the final result. And don't use for loop to solve this problem.\n",
    "'''\n",
    "n=30\n",
    "sum1=0\n",
    "for i in range(1,n):\n",
    "    if i%5!=0:\n",
    "        sum1+=i\n",
    "    if sum1>=300:\n",
    "        break\n",
    "print(sum1-i)\n",
    "    "
   ]
  },
  {
   "cell_type": "code",
   "execution_count": null,
   "id": "0faa5ce4-8757-4986-b1bc-d742fc4f7fbd",
   "metadata": {},
   "outputs": [],
   "source": [
    "# `Problem 9`: Write a program that keeps on accepting a number from the user until the user enters Zero. Display the sum and average of all the numbers.\n",
    "#ddd\n",
    "sum1=0\n",
    "count1=0\n",
    "while True:\n",
    "    n=int(input(\"enter the number:\"))\n",
    "    sum1+=n\n",
    "    count1+=1\n",
    "    avg=sum1/count1\n",
    "    if n==0:\n",
    "        break\n",
    "print(\"Sum of the number is :\",sum1)\n",
    "print(\"Avg of the number is :\",avg)"
   ]
  },
  {
   "cell_type": "code",
   "execution_count": null,
   "id": "c5c6ebb6-5578-4798-847d-64955cc9c1cf",
   "metadata": {},
   "outputs": [],
   "source": [
    "'''`Problem 10`: Write a program, which will find all such numbers between 1000 and 3000 (both included)\n",
    "such that each digit of the number is an even number. \n",
    "The numbers obtained should be printed in a space-separated sequence on a single line.\n",
    "'''\n",
    "for i in range(10,30):\n",
    "    flag=True\n",
    "    a=i\n",
    "    while a>0:\n",
    "        a=a%10\n",
    "        if a%2!=0:\n",
    "            flag=False\n",
    "            break\n",
    "        a=a//10\n",
    "    if flag==True:\n",
    "        print(i)"
   ]
  },
  {
   "cell_type": "code",
   "execution_count": 33,
   "id": "25f57d38-ebee-4812-b251-5b2010cfc5f4",
   "metadata": {},
   "outputs": [
    {
     "name": "stdin",
     "output_type": "stream",
     "text": [
      "enter the number: 4500\n",
      "enter the number: 500\n",
      "enter the number: 20\n",
      "enter the number: 20\n"
     ]
    },
    {
     "name": "stdout",
     "output_type": "stream",
     "text": [
      "234880.0\n"
     ]
    }
   ],
   "source": [
    "'''`Problem 11`: A robot moves in a plane starting from the original point (0,0). The robot can move toward UP, DOWN, LEFT and RIGHT with a given steps.\n",
    "The trace of robot movement is shown as the following:\n",
    "```\n",
    "UP 5\n",
    "DOWN 3\n",
    "LEFT 3\n",
    "RIGHT 2\n",
    "!'''\n",
    "import math\n",
    "x1=int(input(\"enter the number:\"))\n",
    "y1=int(input(\"enter the number:\"))\n",
    "x2=int(input(\"enter the number:\"))\n",
    "y2=int(input(\"enter the number:\"))\n",
    "n=math.sqrt((x2-x1)**2) + ((y2-y1)**2)\n",
    "print(n)"
   ]
  },
  {
   "cell_type": "code",
   "execution_count": 35,
   "id": "4d88c806-284d-4657-97ba-33e928b0118a",
   "metadata": {},
   "outputs": [
    {
     "name": "stdin",
     "output_type": "stream",
     "text": [
      "enter the number to check prime: 7\n"
     ]
    },
    {
     "name": "stdout",
     "output_type": "stream",
     "text": [
      "Prime\n"
     ]
    }
   ],
   "source": [
    "###`Problem 12`:Write a program to print whether a given number is a prime number or not\n",
    "n=int(input(\"enter the number to check prime:\"))\n",
    "for i in range(2,n):\n",
    "    if n%i==0:\n",
    "        print(\"Not prime\")\n",
    "        break\n",
    "else:\n",
    "    print(\"Prime\")"
   ]
  },
  {
   "cell_type": "markdown",
   "id": "2eac0987-daee-4399-8d16-37bde584784a",
   "metadata": {},
   "source": [
    "#TASK 2 OVERR\n"
   ]
  },
  {
   "cell_type": "code",
   "execution_count": null,
   "id": "698e3d49-cb17-4d52-8b33-f6ff85d57d43",
   "metadata": {},
   "outputs": [],
   "source": []
  },
  {
   "cell_type": "code",
   "execution_count": null,
   "id": "6b344967-b287-42e1-8614-5f16e007dd02",
   "metadata": {},
   "outputs": [],
   "source": []
  },
  {
   "cell_type": "markdown",
   "id": "3baead23-a824-4cde-988a-e54ffffc69b2",
   "metadata": {},
   "source": [
    "#TASK3 "
   ]
  },
  {
   "cell_type": "code",
   "execution_count": 37,
   "id": "8da1745e-ef32-4792-8c9f-a8825d5c0c60",
   "metadata": {},
   "outputs": [
    {
     "name": "stdout",
     "output_type": "stream",
     "text": [
      "54321\n",
      "4321\n",
      "321\n",
      "21\n",
      "1\n"
     ]
    }
   ],
   "source": [
    "#Q1\n",
    "for i in range(5,0,-1):\n",
    "    for j in range(i,0,-1):\n",
    "        print(j,end=\"\")\n",
    "    print()"
   ]
  },
  {
   "cell_type": "code",
   "execution_count": null,
   "id": "e24fdb40-593d-40e7-b411-6bf02d1c21e2",
   "metadata": {},
   "outputs": [],
   "source": [
    "### `Problem 2`: Print the following pattern.\n",
    "''bash\n",
    "*\n",
    "* *\n",
    "* * *\n",
    "* * * *\n",
    "* * * * *\n",
    "* * * *\n",
    "* * *\n",
    "* *\n",
    "*\n",
    "'''"
   ]
  },
  {
   "cell_type": "code",
   "execution_count": 39,
   "id": "c35c9d85-1022-43a5-9eaf-9808d83d69f8",
   "metadata": {},
   "outputs": [
    {
     "name": "stdout",
     "output_type": "stream",
     "text": [
      "*\n",
      "***\n",
      "*****\n",
      "*******\n",
      "*********\n"
     ]
    }
   ],
   "source": [
    "### `Problem 3`:Write a program to pring the following pattern\n",
    "for i in range(1,10,2):\n",
    "    for j in range(i):\n",
    "        print(\"*\",end=\"\")\n",
    "    print()"
   ]
  },
  {
   "cell_type": "code",
   "execution_count": null,
   "id": "d2da5ffa-0521-4770-bbb0-f3ef9026420f",
   "metadata": {},
   "outputs": [],
   "source": [
    "'''Problem 4`:Write a program to print the following pattern\n",
    "\n",
    "1\n",
    "\n",
    "2 1\n",
    "\n",
    "3 2 1\n",
    "\n",
    "4 3 2 1\n",
    "\n",
    "5 4 3 2 1'''"
   ]
  },
  {
   "cell_type": "code",
   "execution_count": null,
   "id": "d3cd3ce8-1570-472c-adde-91ae8cdff6a2",
   "metadata": {},
   "outputs": [],
   "source": [
    "'''Problem5:Write a Python Program to Find the Sum of the Series till the nth term:<br>\n",
    "1 + x^2/2 + x^3/3 + … x^n/n<br>\n",
    "n will be provided by the user'''"
   ]
  },
  {
   "cell_type": "code",
   "execution_count": null,
   "id": "4353344c-924f-4d50-85bd-6546ff23bffd",
   "metadata": {},
   "outputs": [],
   "source": [
    "# `Problem 6`: The natural logarithm can be approximated by the following series."
   ]
  },
  {
   "cell_type": "code",
   "execution_count": null,
   "id": "75e5716b-7725-4347-98ba-0f65b5ff4579",
   "metadata": {},
   "outputs": [],
   "source": [
    "# `Problem 7` - Find the sum of the series upto n terms.\n",
    "'''Write a program to calculate the sum of series up to n term.\n",
    "For example, if n =5 \n",
    "the series will become 2 + 22 + 222 + 2222 + 22222 = 24690.\n",
    "Take the user input and then calculate. And the output style should match which is given in the example.'''"
   ]
  },
  {
   "cell_type": "code",
   "execution_count": null,
   "id": "9132ae6a-4702-4524-aeef-b4aa0e1d9c2f",
   "metadata": {},
   "outputs": [],
   "source": [
    "#`Problem 8`: Write a program to print all the unique combinations of 1,2,3 and 4"
   ]
  },
  {
   "cell_type": "code",
   "execution_count": null,
   "id": "e36de405-2ef2-4cf7-a5fa-d7f190d26790",
   "metadata": {},
   "outputs": [],
   "source": [
    "#Problem9 :Write a program that will take a decimal number as input and prints out the binary equivalent of the number"
   ]
  },
  {
   "cell_type": "code",
   "execution_count": null,
   "id": "c475c78a-5748-4dec-adb1-3bca9156f1dd",
   "metadata": {},
   "outputs": [],
   "source": [
    "#Problem10:Write a program that will take 2 numbers as input and prints the LCM and HCF of those 2 numbers"
   ]
  },
  {
   "cell_type": "code",
   "execution_count": null,
   "id": "88e64b9b-3a69-489f-bf51-22e45edae576",
   "metadata": {},
   "outputs": [],
   "source": [
    "# **Problem 11:**Create Short Form from initial character\n",
    "'''Given a string create short form ofthe string from Initial character. Short form should be capitalised."
   ]
  },
  {
   "cell_type": "code",
   "execution_count": null,
   "id": "9a13af19-e5ce-42a8-a7af-b47df0634433",
   "metadata": {},
   "outputs": [],
   "source": [
    "#`Problem 12`: Append second string in the middle of first string\n",
    "'''`Input:`\n",
    "campusx\n",
    "data\n",
    "\n",
    "`Output`:\n",
    "camdatapusx'''\n",
    "s=\"campusx\"\n",
    "b=\"data\"\n",
    "print(s[:len(s)//2])+\"data\" #+ s[:len(s)//2]"
   ]
  },
  {
   "cell_type": "code",
   "execution_count": null,
   "id": "dd4c1bc2-3cf2-4224-8c5d-35000d96d1a0",
   "metadata": {},
   "outputs": [],
   "source": [
    "# Problem 13:Given string contains a combination of the lower and upper case letters. Write a program to arrange the characters of a string so that all lowercase letters should come first.\n",
    "'''Given:\n",
    "\n",
    "`str1 = PyNaTive`\n",
    "\n",
    "Expected Output:\n",
    "\n",
    "`yaivePNT`'''\n",
    "s=\"PyNaTive\"\n"
   ]
  },
  {
   "cell_type": "code",
   "execution_count": null,
   "id": "430cf59f-cabe-4784-b2ba-ef3e877f8850",
   "metadata": {},
   "outputs": [],
   "source": [
    "# `Problem 14:`Take a alphanumeric string input and print the sum and average of the digits that appear in the string, ignoring all other characters.Input:\n",
    "\n",
    "'''`hel123O4every093`\n",
    "\n",
    "Output:\n",
    "\n",
    "```\n",
    "Sum: 22\n",
    "Avg: 2.75'''\n",
    "s=\"hel123O4every093\"\n",
    "sum1=0\n",
    "count1=0\n",
    "avg=0\n",
    "for i in s:\n",
    "    if i.isnumeric():\n",
    "        sum1+=int(i)\n",
    "        count1+=1\n",
    "        avg=sum1/count1\n",
    "        \n",
    "print(\"sum is :\",sum1)\n",
    "print(\"avg of no is:\",avg)"
   ]
  },
  {
   "cell_type": "code",
   "execution_count": null,
   "id": "86018511-45eb-4c16-a053-ffbfe62bac62",
   "metadata": {},
   "outputs": [],
   "source": [
    "# `Problem 15:` Removal of all characters from a string except integers\n",
    "'''Given:`\n",
    "\n",
    "```\n",
    "str1 = 'I am 25 years and 10 months old'\n",
    "```\n",
    "`Expected Output:`\n",
    "```\n",
    "2510\n",
    "'''\n",
    "s= \"I am 25 years and 10 months old\"\n",
    "for i in s:\n",
    "    if i.isnumeric():\n",
    "        print(i,end=\"\")"
   ]
  },
  {
   "cell_type": "code",
   "execution_count": null,
   "id": "f1c025b2-ff7d-4a8b-83da-bd36b1b49b1c",
   "metadata": {},
   "outputs": [],
   "source": [
    "# `Problem 16`: Check whether the string is Symmetrical.\n",
    "'''Example 1:**\n",
    "`Input==khokho\n",
    "`Output`== The entered string is symmetrical'''\n",
    "\n",
    "\n",
    "s=\"khokho\"\n",
    "half = len(s) // 2\n",
    "if s[:half] == s[half:] if len(s) % 2 == 0 else s[:half] == s[half+1:]:\n",
    "    print(\"The entered string is symmetrical\")\n",
    "else:\n",
    "    print(\"not\")"
   ]
  },
  {
   "cell_type": "code",
   "execution_count": null,
   "id": "5aeb664f-8f9d-41cf-8ad4-5dd35c1dde17",
   "metadata": {},
   "outputs": [],
   "source": [
    "## `Problem 17`: Reverse words in a given String\n",
    "n=\"my name is krrish\".split()\n",
    "for i in range(len(n)-1,-1,-1):\n",
    "    print(n[i],end=\" \")"
   ]
  },
  {
   "cell_type": "code",
   "execution_count": null,
   "id": "904e5b93-83f5-4251-8548-e3e22d087186",
   "metadata": {},
   "outputs": [],
   "source": [
    "#Problem 18: Find uncommon words from two Strings.\n",
    "a=\"apple\",\"banana\",\"mango\".split()\n",
    "v=\"banana\",\"fruits\",\"mango\".split()\n",
    "s=[]\n",
    "for i in a:\n",
    "    if i not in v:\n",
    "        s.append(i)\n",
    "for i in v:\n",
    "    if i not in a:\n",
    "        s.append(i)\n",
    "s"
   ]
  },
  {
   "cell_type": "code",
   "execution_count": null,
   "id": "238c804c-0d8d-4d5f-b36d-d9738f6e333e",
   "metadata": {},
   "outputs": [],
   "source": [
    "# `Problem 19`: Word location in String.\n",
    "sentence=\"We can learn data science through campusx mentorship program.\".split()\n",
    "word=\"campusx\"\n",
    "for i in sentence:\n",
    "    if word in i:\n",
    "        print(sentence.index(i)+1)\n"
   ]
  },
  {
   "cell_type": "code",
   "execution_count": null,
   "id": "bca0b348-ff43-4b64-aee7-3b6938624c2f",
   "metadata": {},
   "outputs": [],
   "source": [
    "#Problem20:Write a program that can remove all the duplicate characters from a string. User will provide the input.\n",
    "a=input(\"enter the input\")\n",
    "b=set(a)\n",
    "print(str(b))\n"
   ]
  },
  {
   "cell_type": "code",
   "execution_count": null,
   "id": "0a8f8b86-f46c-4258-9ddb-5bc6d8cc4b25",
   "metadata": {},
   "outputs": [],
   "source": [
    "#TASK 3 COMPLETED"
   ]
  },
  {
   "cell_type": "code",
   "execution_count": null,
   "id": "58a66884-e87e-4b42-8043-8fb3c7b13094",
   "metadata": {},
   "outputs": [],
   "source": []
  },
  {
   "cell_type": "code",
   "execution_count": null,
   "id": "c37f3bda-dfdd-4fee-a476-0c7476ded634",
   "metadata": {},
   "outputs": [],
   "source": []
  },
  {
   "cell_type": "markdown",
   "id": "ccba68fc-3e2d-4996-a788-4daa5abb6804",
   "metadata": {},
   "source": [
    "#TASK4"
   ]
  },
  {
   "cell_type": "code",
   "execution_count": 41,
   "id": "e93f1ef9-1fc0-47a7-a058-ef891df699b7",
   "metadata": {},
   "outputs": [
    {
     "data": {
      "text/plain": [
       "['M', 'y', 'na', 'me', 'i', 's', 'Kh', 'an']"
      ]
     },
     "execution_count": 41,
     "metadata": {},
     "output_type": "execute_result"
    }
   ],
   "source": [
    "\n",
    "#`Problem 1:` Combine two lists index-wise(columns wise)\n",
    "\n",
    "'''Write a program to add two lists index-wise.\n",
    "Create a new list that contains the 0th index item from both the list, then the 1st index item, \n",
    "and so on till the last element. any leftover items will get added at the end of the new list.'''\n",
    "list1 = [\"M\", \"na\", \"i\", \"Kh\"]\n",
    "list2 = [\"y\", \"me\", \"s\", \"an\"]\n",
    "l=[]\n",
    "for i in range(len(list1)):\n",
    "    l.append(list1[i])\n",
    "    l.append(list2[i])\n",
    "l\n",
    "   "
   ]
  },
  {
   "cell_type": "code",
   "execution_count": 43,
   "id": "708466ea-3885-4257-a678-cee958f26040",
   "metadata": {},
   "outputs": [
    {
     "data": {
      "text/plain": [
       "[800, 500, [700, 35000], 2000]"
      ]
     },
     "execution_count": 43,
     "metadata": {},
     "output_type": "execute_result"
    }
   ],
   "source": [
    "l2=[800,500,[700,35000]]\n",
    "l2.insert(4,2000)\n",
    "l2"
   ]
  },
  {
   "cell_type": "code",
   "execution_count": 45,
   "id": "892c828f-c2de-4a5a-849e-7a4b997b328f",
   "metadata": {},
   "outputs": [
    {
     "name": "stdout",
     "output_type": "stream",
     "text": [
      "[10, 20, [300, 400, [5000, 6000, 7000], 500], 30, 40]\n"
     ]
    }
   ],
   "source": [
    "# `Problem 2:` Add new item to list after a specified item\n",
    "'''Write a program to add item 7000 after 6000 in the following Python List\n",
    "```\n",
    "list1 = [10, 20, [300, 400, [5000, 6000], 500], 30, 40]\n",
    "```\n",
    "`Output:`\n",
    "```\n",
    "[10, 20, [300, 400, [5000, 6000, 7000], 500], 30, 40]'''\n",
    "list1 = [10, 20, [300, 400, [5000, 6000], 500], 30, 40]\n",
    "for i in list1:\n",
    "    if (type(i))==list:\n",
    "       # print(i)\n",
    "        for j in i:\n",
    "            if type(j)==list:\n",
    "                j.insert(2,7000)\n",
    "print(list1)\n"
   ]
  },
  {
   "cell_type": "code",
   "execution_count": 47,
   "id": "9522447c-aa8c-46be-aa85-381cb8e3193c",
   "metadata": {},
   "outputs": [
    {
     "name": "stdout",
     "output_type": "stream",
     "text": [
      "Jelly Belly = 10\n",
      "Kit Kat = 20\n",
      "Double Bubble = 34\n",
      "Milky Way = 74\n",
      "Three Musketeers = 32\n"
     ]
    }
   ],
   "source": [
    "''' #`Problem 3:` Update no of items available\n",
    "\n",
    "Suppose you are given a list of candy and another list of same size representing no of items of respective candy.\n",
    "\n",
    "i.e -  \n",
    "``` \n",
    "'''\n",
    "candy_list = ['Jelly Belly','Kit Kat','Double Bubble','Milky Way','Three Musketeers']\n",
    "no_of_items = [10,20,34,74,32]\n",
    "l=[]\n",
    "for i in range(len(candy_list)):\n",
    "   print(candy_list[i],\"=\",no_of_items[i])\n",
    "   "
   ]
  },
  {
   "cell_type": "code",
   "execution_count": 49,
   "id": "07a3c177-078f-41b8-8584-4726506428fe",
   "metadata": {},
   "outputs": [
    {
     "name": "stdout",
     "output_type": "stream",
     "text": [
      "1\n",
      "3\n",
      "6\n",
      "10\n",
      "15\n",
      "21\n"
     ]
    }
   ],
   "source": [
    "'''#`Problem 4:` Running Sum on list\n",
    "Write a program to print a list after performing running sum on it.\n",
    "\n",
    "i.e:\n",
    "\n",
    "`Input:`\n",
    "```\n",
    "list1 = [1,2,3,4,5,6]\n",
    "```\n",
    "`Output:`\n",
    "```\n",
    "[1,3,6,10,15,21]'''\n",
    "list1=[1,2,3,4,5,6]\n",
    "sum1=0\n",
    "for i in range(len(list1)):\n",
    "    sum1+=list1[i]\n",
    "    print(sum1)"
   ]
  },
  {
   "cell_type": "code",
   "execution_count": 51,
   "id": "c1dc2149-72af-4d4b-93a9-bbe277ee8fef",
   "metadata": {},
   "outputs": [
    {
     "data": {
      "text/plain": [
       "[34, 67, 89]"
      ]
     },
     "execution_count": 51,
     "metadata": {},
     "output_type": "execute_result"
    }
   ],
   "source": [
    "'''#`Problem 6:` Find list of common unique items from two list. \n",
    "and show in increasing order\n",
    "\n",
    "`Input`\n",
    "\n",
    "```\n",
    "num1 = [23,45,67,78,89,34]\n",
    "num2 = [34,89,55,56,39,67]\n",
    "```\n",
    "\n",
    "`Output:`\n",
    "```\n",
    "[34, 67, 89]'''\n",
    "num1 = [23,45,67,78,89,34]\n",
    "num2 = [34,89,55,56,39,67]\n",
    "l=[]\n",
    "for i in num2:\n",
    "    if i in num1:\n",
    "        l.append(i)\n",
    "sorted(l)"
   ]
  },
  {
   "cell_type": "code",
   "execution_count": 53,
   "id": "dbdf1d1f-65bf-4c44-b8a2-15a4cc43b46d",
   "metadata": {},
   "outputs": [
    {
     "data": {
      "text/plain": [
       "\"#`Problem 7:` Sort a list of alphanumeric strings based on product value of numeric character in it. If in any string there is no numeric character take it's product value as 1.\\n\\n`Input:`\\n```\\n['1ac21', '23fg', '456', '098d','1','kls']\\n```\\n\\n`Output:`\\n```\\n['456', '23fg', '1ac21', '1', 'kls', '098d']\""
      ]
     },
     "execution_count": 53,
     "metadata": {},
     "output_type": "execute_result"
    }
   ],
   "source": [
    "'''#`Problem 7:` Sort a list of alphanumeric strings based on product value of numeric character in it. If in any string there is no numeric character take it's product value as 1.\n",
    "\n",
    "`Input:`\n",
    "```\n",
    "['1ac21', '23fg', '456', '098d','1','kls']\n",
    "```\n",
    "\n",
    "`Output:`\n",
    "```\n",
    "['456', '23fg', '1ac21', '1', 'kls', '098d']'''"
   ]
  },
  {
   "cell_type": "code",
   "execution_count": 55,
   "id": "82bd2d98-d185-4f4f-94ec-21ac12f0a9e6",
   "metadata": {},
   "outputs": [
    {
     "data": {
      "text/plain": [
       "['CampusX', 'is', 'a', 'channel', 'for', 'data-science', 'aspirants.']"
      ]
     },
     "execution_count": 55,
     "metadata": {},
     "output_type": "execute_result"
    }
   ],
   "source": [
    "'''Problem 8:` Split String of list on K character.\n",
    "\n",
    "**Example :**\n",
    "\n",
    "Input:\n",
    "```bash\n",
    "['CampusX is a channel', 'for data-science', 'aspirants.']\n",
    "```\n",
    "\n",
    "Output:\n",
    "```bash\n",
    "['CampusX', 'is', 'a', 'channel', 'for', 'data-science', 'aspirants.']'''\n",
    "a=['CampusX is a channel', 'for data-science', 'aspirants.']\n",
    "l=[]\n",
    "for i in a:\n",
    "    l.extend(i.split())\n",
    "l    "
   ]
  },
  {
   "cell_type": "code",
   "execution_count": 57,
   "id": "0540fa52-910d-4f24-b31e-d2f57c2581e0",
   "metadata": {},
   "outputs": [
    {
     "name": "stdout",
     "output_type": "stream",
     "text": [
      " campuxisbestchannel\n"
     ]
    }
   ],
   "source": [
    "'''# `Problem 9:` Convert Character Matrix to single String using string comprehension.\n",
    "\n",
    "**Example 1:**\n",
    "\n",
    "Input:\n",
    "```bash\n",
    "[['c', 'a', 'm', 'p', 'u', 'x'], ['i', 's'], ['b', 'e', 's', 't'], ['c', 'h', 'a', 'n', 'n', 'e', 'l']]\n",
    "```\n",
    "\n",
    "Output:\n",
    "```bash\n",
    "campux is best channel\n",
    "'''\n",
    "a=[['c', 'a', 'm', 'p', 'u', 'x'], ['i', 's'], ['b', 'e', 's', 't'], ['c', 'h', 'a', 'n', 'n', 'e', 'l']]\n",
    "s=\" \"\n",
    "for i in a:\n",
    "    for j in i:\n",
    "        s+=j\n",
    "print(s)\n",
    "    \n"
   ]
  },
  {
   "cell_type": "code",
   "execution_count": 59,
   "id": "c0d3728e-4d6c-43aa-ba9f-c5e78a4cb983",
   "metadata": {},
   "outputs": [
    {
     "name": "stdout",
     "output_type": "stream",
     "text": [
      "c\n",
      "a\n",
      "m\n",
      "p\n",
      "u\n",
      "s\n",
      "x\n",
      "I\n",
      "s\n",
      "b\n",
      "e\n",
      "s\n",
      "t\n",
      "F\n",
      "o\n",
      "r\n",
      "d\n",
      "a\n",
      "t\n",
      "a\n",
      "S\n",
      "c\n",
      "i\n",
      "e\n",
      "n\n",
      "t\n",
      "i\n",
      "s\n",
      "t\n"
     ]
    }
   ],
   "source": [
    "#`Problem 10:` Add Space between Potential Words.\n",
    "a=['campusxIs', 'bestFor', 'dataScientist']\n",
    "for i in a:\n",
    "    for j in i:\n",
    "        print(j)\n",
    "   \n"
   ]
  },
  {
   "cell_type": "code",
   "execution_count": 61,
   "id": "3a823172-7713-42bc-b43d-27e3e4a4ae4a",
   "metadata": {},
   "outputs": [
    {
     "name": "stdout",
     "output_type": "stream",
     "text": [
      "{1, 2, 3, 4, 5, 7, 8}\n"
     ]
    }
   ],
   "source": [
    "#Write a program that can perform union operation on 2 lists\n",
    "\n",
    "a=[1,2,3,4,5,1]\n",
    "b=[2,3,5,7,8]\n",
    "c=a+b\n",
    "print(set(c))\n"
   ]
  },
  {
   "cell_type": "code",
   "execution_count": 63,
   "id": "abf737f7-0ed8-47e0-994a-c4d3d1ef0f3d",
   "metadata": {},
   "outputs": [
    {
     "name": "stdout",
     "output_type": "stream",
     "text": [
      "3\n",
      "6\n",
      "9\n"
     ]
    }
   ],
   "source": [
    "# `Problem 12:` Write a program that can find the max number of each row of a matrix\n",
    "a=[[1,2,3],[4,5,6],[7,8,9]]\n",
    "for i in a:\n",
    "    print(max(i))\n"
   ]
  },
  {
   "cell_type": "code",
   "execution_count": 65,
   "id": "da3698b5-a55a-494e-895b-6ba3e58b7965",
   "metadata": {},
   "outputs": [],
   "source": [
    "'''problem 13: Write a list comprehension to print the following matrix\n",
    "[[0, 1, 2], [3, 4, 5], [6, 7, 8]]'''"
   ]
  },
  {
   "cell_type": "code",
   "execution_count": 67,
   "id": "bfec1a85-23d7-439f-be8e-ab2c5993e16c",
   "metadata": {},
   "outputs": [
    {
     "name": "stdout",
     "output_type": "stream",
     "text": [
      "yaivePNT\n"
     ]
    }
   ],
   "source": [
    "a=\"PyNaTive\"\n",
    "lower=\"\"\n",
    "upper=\"\"\n",
    "for i in a:\n",
    "    if i.islower():\n",
    "        lower+=i\n",
    "    elif i.isupper():\n",
    "        upper+=i\n",
    "        \n",
    "print(lower+upper)\n"
   ]
  },
  {
   "cell_type": "code",
   "execution_count": null,
   "id": "5e24ace3-ca1d-4bba-bd97-fbd1c92b5dca",
   "metadata": {},
   "outputs": [],
   "source": [
    "a=\"Data science mentorship program\".split()\n",
    "for i in a :\n",
    "    print(i[0].upper(),end=\"\")\n"
   ]
  },
  {
   "cell_type": "code",
   "execution_count": null,
   "id": "0e052bb0-8ea4-4e2b-a1c4-4dabaf60a3c7",
   "metadata": {},
   "outputs": [],
   "source": [
    "''' Problem 14: Write a list comprehension that can transpose a given\n",
    "matrix\n",
    "matrix = [ [1,2,3], [4,5,6], [7,8,9]]\n",
    "[1, 4, 7] [2, 5, 8] [3, 6, 9]'''\n"
   ]
  },
  {
   "cell_type": "code",
   "execution_count": null,
   "id": "c4294ae4-3804-4cec-97b5-124f93047434",
   "metadata": {},
   "outputs": [],
   "source": [
    "'''Problem 15: Write a list comprehension that can flatten a nested list\n",
    "Input matrix = [ [1,2,3], [4,5,6], [7,8,9]]\n",
    "Output: [1, 2, 3, 4, 5, 6, 7, 8, 9]'''"
   ]
  },
  {
   "cell_type": "code",
   "execution_count": null,
   "id": "19cbf416-4cd4-4778-bbd3-9836998edec8",
   "metadata": {},
   "outputs": [],
   "source": [
    "#task4 completed"
   ]
  },
  {
   "cell_type": "code",
   "execution_count": null,
   "id": "be3a66a3-2e07-4589-bdc2-87c5ac29fa1b",
   "metadata": {},
   "outputs": [],
   "source": []
  },
  {
   "cell_type": "code",
   "execution_count": null,
   "id": "df3ca6c6-f226-46f8-8bd8-31a0f34aea61",
   "metadata": {},
   "outputs": [],
   "source": []
  },
  {
   "cell_type": "markdown",
   "id": "a5faa5f2-9138-45be-ac71-85e6f80d0064",
   "metadata": {},
   "source": [
    "#TASK5"
   ]
  },
  {
   "cell_type": "code",
   "execution_count": 70,
   "id": "6c6ccf5c-91de-4f91-a3d8-c6b98f2bf658",
   "metadata": {},
   "outputs": [],
   "source": [
    "'''#Q-1: Rectangle Class\n",
    "1. Write a Rectangle class in Python language, allowing you to build a rectangle with\n",
    "length and width attributes.\n",
    "2. Create a Perimeter() method to calculate the perimeter of the rectangle and a Area()\n",
    "method to calculate the area of the rectangle.\n",
    "3. Create a method display() that display the length, width, perimeter and area of an\n",
    "object created using an instantiation on rectangle class.\n",
    "Eg. After making above classes and methods, on executing below code:-'''\n",
    "\n",
    "\n",
    "\n",
    "class rectangle :\n",
    "    def __init__ (self,length,width):\n",
    "        self.length=length\n",
    "        self.width=width\n",
    "        #self.display=display\n",
    "    def perimeter(self):\n",
    "        p = 2*(self.length + self . width)\n",
    "        return 'perimeter is: ' ,p\n",
    "    def area(self):\n",
    "        a= self.length + self.width\n",
    "        return \"Area is : \",a\n",
    "        \n",
    "    def display(self):\n",
    "        print (\"Length is :\",self.length)\n",
    "        print (\"Width is :\",self.width)\n",
    "        print (\"Perimeter is :\",2*(self.length + self . width))\n",
    "        print (\"Area is :\",self.length * self.width)\n",
    "        \n",
    "        "
   ]
  },
  {
   "cell_type": "code",
   "execution_count": 72,
   "id": "b7162a96-5e59-4922-a216-1bb2483dc731",
   "metadata": {},
   "outputs": [
    {
     "name": "stdout",
     "output_type": "stream",
     "text": [
      "Length is : 3\n",
      "Width is : 4\n",
      "Perimeter is : 14\n",
      "Area is : 12\n"
     ]
    }
   ],
   "source": [
    "r1=rectangle(3,4)\n",
    "\n",
    "#r1.perimeter()\n",
    "\n",
    "#r1.area()\n",
    "\n",
    "r1.display()"
   ]
  },
  {
   "cell_type": "code",
   "execution_count": 240,
   "id": "1c3dd216-f9be-4b97-b16a-80ee5a34e25b",
   "metadata": {},
   "outputs": [],
   "source": [
    "#q2 bank classs\n",
    "class BankAccount:\n",
    "    def __init__ (self,accountnumber,name,balance):\n",
    "        self.accountnumber=accountnumber\n",
    "        self.name=name\n",
    "        self.balance=balance\n",
    "        \n",
    "    def deposit(self,d):\n",
    "        ub=(self.balance + d)\n",
    "        print(\"Deposit is :\",d)\n",
    "        print(\"Current Bal is :\",ub)\n",
    "        \n",
    "    def withdrawal(self,w):\n",
    "        if self.balance<w:\n",
    "            print(\"Insufficient Balance\")\n",
    "        else:\n",
    "            print(\"Transaction Successfull \")\n",
    "            print(\"Your Balance is:\" , self.balance-w)\n",
    "    def bankfee(self,bf):\n",
    "        "
   ]
  },
  {
   "cell_type": "code",
   "execution_count": 242,
   "id": "6ce2a4fe-dc97-4402-ad5e-b7754412fdfc",
   "metadata": {},
   "outputs": [],
   "source": [
    "B1=BankAccount(123,\"krrish\",10000)"
   ]
  },
  {
   "cell_type": "code",
   "execution_count": 244,
   "id": "2955e5b9-ee8a-42fa-b274-db992c6f0939",
   "metadata": {},
   "outputs": [
    {
     "name": "stdout",
     "output_type": "stream",
     "text": [
      "Deposit is : 2000\n",
      "Current Bal is : 12000\n"
     ]
    }
   ],
   "source": [
    "B1.deposit(2000)"
   ]
  },
  {
   "cell_type": "code",
   "execution_count": 253,
   "id": "06b9732b-f069-435e-9bb8-d2f571a093bf",
   "metadata": {},
   "outputs": [
    {
     "name": "stdout",
     "output_type": "stream",
     "text": [
      "Transaction Successfull \n",
      "Your Balance is: 9000\n"
     ]
    }
   ],
   "source": [
    "B1.withdrawal(1000)"
   ]
  },
  {
   "cell_type": "code",
   "execution_count": null,
   "id": "97b83d8c-ea1a-423b-bfa1-4377b637136c",
   "metadata": {},
   "outputs": [],
   "source": []
  },
  {
   "cell_type": "code",
   "execution_count": 1,
   "id": "d67b13e3-fd8d-42dd-bc95-002ffe58b0c8",
   "metadata": {},
   "outputs": [],
   "source": [
    "class bank:\n",
    "    def __init__(self):\n",
    "        self.pin=\"\"\n",
    "        self.balance=0\n",
    "        self.menu()\n",
    "\n",
    "    def menu(self): \n",
    "            user_input=input ('''\n",
    "        1. Press 1 for pin genrate \n",
    "        2. Press 2 for withdrwals''')\n",
    "            if user_input==\"1\":\n",
    "               self.create_pin()\n",
    "            if user_input==\"2\":\n",
    "               self.withdrawal()\n",
    "            \n",
    "           \n",
    "             \n",
    "    def create_pin(self):\n",
    "        new_pin=input(\"Enter Your Pin\")\n",
    "        new_balance=int(input(\"Enter your NEw Bal\")) \n",
    "        self.pin=new_pin\n",
    "        self.balance=new_balance\n",
    "        self.menu()\n",
    "    def withdrawal(self):\n",
    "        old_pin=input(\"Enter your old pin\") \n",
    "        if old_pin==self.pin:\n",
    "            amoutn=int(input(\"Enter Amout to withdrwal\"))\n",
    "            if self.balance>amoutn:\n",
    "                print(self.balance-amoutn) \n",
    "            else:\n",
    "                print(\"no\")\n",
    "        else:\n",
    "            print(\"wrong_pin\")\n",
    "        self.menu()\n",
    "            \n",
    "        "
   ]
  },
  {
   "cell_type": "code",
   "execution_count": 3,
   "id": "e288adf2-6f85-411f-985b-7d4540275cf7",
   "metadata": {},
   "outputs": [
    {
     "name": "stdin",
     "output_type": "stream",
     "text": [
      "\n",
      "        1. Press 1 for pin genrate \n",
      "        2. Press 2 for withdrwals 1\n",
      "Enter Your Pin 2199\n",
      "Enter your NEw Bal 5000\n",
      "\n",
      "        1. Press 1 for pin genrate \n",
      "        2. Press 2 for withdrwals 2\n",
      "Enter your old pin 2199\n",
      "Enter Amout to withdrwal 1000\n"
     ]
    },
    {
     "name": "stdout",
     "output_type": "stream",
     "text": [
      "4000\n"
     ]
    },
    {
     "name": "stdin",
     "output_type": "stream",
     "text": [
      "\n",
      "        1. Press 1 for pin genrate \n",
      "        2. Press 2 for withdrwals 9\n"
     ]
    }
   ],
   "source": [
    "x1=bank()"
   ]
  },
  {
   "cell_type": "code",
   "execution_count": null,
   "id": "3dbc02d4-1d3f-4aa7-a094-4643778ba39a",
   "metadata": {},
   "outputs": [
    {
     "name": "stdin",
     "output_type": "stream",
     "text": [
      "Enter your old pin 2199\n",
      "Enter Amout to withdrwal 4000\n"
     ]
    },
    {
     "name": "stdout",
     "output_type": "stream",
     "text": [
      "1000\n"
     ]
    },
    {
     "name": "stdin",
     "output_type": "stream",
     "text": [
      "\n",
      "        1. Press 1 for pin genrate \n",
      "        2. Press 2 for withdrwals 2\n",
      "Enter your old pin 500\n"
     ]
    },
    {
     "name": "stdout",
     "output_type": "stream",
     "text": [
      "wrong_pin\n"
     ]
    },
    {
     "name": "stdin",
     "output_type": "stream",
     "text": [
      "\n",
      "        1. Press 1 for pin genrate \n",
      "        2. Press 2 for withdrwals 2\n",
      "Enter your old pin 2199\n",
      "Enter Amout to withdrwal 500\n"
     ]
    },
    {
     "name": "stdout",
     "output_type": "stream",
     "text": [
      "4500\n"
     ]
    }
   ],
   "source": [
    "x1.withdrawal()"
   ]
  },
  {
   "cell_type": "code",
   "execution_count": null,
   "id": "cff18721-76fc-4c21-bb60-dbb2635d5133",
   "metadata": {},
   "outputs": [],
   "source": [
    "8\n"
   ]
  },
  {
   "cell_type": "code",
   "execution_count": null,
   "id": "9ab1eee9-91a3-41d7-9dbb-fc7df5952907",
   "metadata": {},
   "outputs": [],
   "source": []
  },
  {
   "cell_type": "code",
   "execution_count": null,
   "id": "f974a0f6-28b4-416d-b2aa-85a82b8363f3",
   "metadata": {},
   "outputs": [],
   "source": []
  },
  {
   "cell_type": "code",
   "execution_count": null,
   "id": "7cb560df-14e1-4c96-8670-0f531b7fafc2",
   "metadata": {},
   "outputs": [],
   "source": []
  },
  {
   "cell_type": "code",
   "execution_count": null,
   "id": "95a99f0a-6a38-485d-94cd-9d0daa8aad44",
   "metadata": {},
   "outputs": [],
   "source": []
  },
  {
   "cell_type": "code",
   "execution_count": null,
   "id": "cb48f06a-0fb5-4267-ab79-54277b343549",
   "metadata": {},
   "outputs": [],
   "source": []
  }
 ],
 "metadata": {
  "kernelspec": {
   "display_name": "Python 3 (ipykernel)",
   "language": "python",
   "name": "python3"
  },
  "language_info": {
   "codemirror_mode": {
    "name": "ipython",
    "version": 3
   },
   "file_extension": ".py",
   "mimetype": "text/x-python",
   "name": "python",
   "nbconvert_exporter": "python",
   "pygments_lexer": "ipython3",
   "version": "3.12.7"
  }
 },
 "nbformat": 4,
 "nbformat_minor": 5
}
